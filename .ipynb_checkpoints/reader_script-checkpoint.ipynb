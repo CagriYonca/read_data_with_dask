{
 "cells": [
  {
   "cell_type": "code",
   "execution_count": 1,
   "id": "8dc43255",
   "metadata": {},
   "outputs": [],
   "source": [
    "from dask.distributed import Client, LocalCluster\n",
    "import dask.dataframe as dd"
   ]
  },
  {
   "cell_type": "code",
   "execution_count": 2,
   "id": "ea5a75a4",
   "metadata": {},
   "outputs": [
    {
     "name": "stderr",
     "output_type": "stream",
     "text": [
      "/Users/cagimer/.pyenv/versions/3.8.12/lib/python3.8/site-packages/distributed/node.py:160: UserWarning: Port 8787 is already in use.\n",
      "Perhaps you already have a cluster running?\n",
      "Hosting the HTTP server on port 58178 instead\n",
      "  warnings.warn(\n"
     ]
    }
   ],
   "source": [
    "cluster = LocalCluster()\n",
    "client = Client(cluster)\n",
    "file_path = '/Users/cagimer/Desktop/Projects/read_data_with_dask/my_file.csv'"
   ]
  },
  {
   "cell_type": "code",
   "execution_count": 6,
   "id": "df7ad8a5",
   "metadata": {},
   "outputs": [
    {
     "name": "stdout",
     "output_type": "stream",
     "text": [
      "CPU times: user 6.52 ms, sys: 1.97 ms, total: 8.5 ms\n",
      "Wall time: 7.04 ms\n"
     ]
    }
   ],
   "source": [
    "cols = ['Country', 'Date', 'Worker']\n",
    "%time ddf = dd.read_csv(file_path, blocksize='5 KB', names=cols, dtype={'Country': str, 'Date': str, 'Worker': int})"
   ]
  },
  {
   "cell_type": "code",
   "execution_count": null,
   "id": "39fe2d7c",
   "metadata": {},
   "outputs": [],
   "source": []
  },
  {
   "cell_type": "code",
   "execution_count": 22,
   "id": "5d000aaa",
   "metadata": {},
   "outputs": [
    {
     "name": "stdout",
     "output_type": "stream",
     "text": [
      "                      Country        Date  Worker\n",
      "0    Northern Mariana Islands  2020-01-29     159\n",
      "1       Saint Kitts and Nevis  2020-02-27     119\n",
      "2                     Hungary  2020-09-06     116\n",
      "3                      Angola  2020-08-18      78\n",
      "4                 Puerto Rico  2020-02-10      96\n",
      "..                        ...         ...     ...\n",
      "190                  Suriname  2020-08-31     195\n",
      "191                     India  2020-11-17     186\n",
      "192      Netherlands Antilles  2020-06-07     192\n",
      "193                  Barbados  2020-01-06     173\n",
      "194                    Poland  2020-11-03     106\n",
      "\n",
      "[195 rows x 3 columns]\n"
     ]
    }
   ],
   "source": [
    "# print(ddf.shape[0].compute())\n",
    "# print(ddf.map_partitions(len).compute().cumsum())\n",
    "print(ddf.partitions[0].compute())"
   ]
  },
  {
   "cell_type": "code",
   "execution_count": 5,
   "id": "6d0ec70c",
   "metadata": {},
   "outputs": [
    {
     "data": {
      "text/html": [
       "<div>\n",
       "<style scoped>\n",
       "    .dataframe tbody tr th:only-of-type {\n",
       "        vertical-align: middle;\n",
       "    }\n",
       "\n",
       "    .dataframe tbody tr th {\n",
       "        vertical-align: top;\n",
       "    }\n",
       "\n",
       "    .dataframe thead th {\n",
       "        text-align: right;\n",
       "    }\n",
       "</style>\n",
       "<table border=\"1\" class=\"dataframe\">\n",
       "  <thead>\n",
       "    <tr style=\"text-align: right;\">\n",
       "      <th></th>\n",
       "      <th>Worker</th>\n",
       "    </tr>\n",
       "    <tr>\n",
       "      <th>Country</th>\n",
       "      <th></th>\n",
       "    </tr>\n",
       "  </thead>\n",
       "  <tbody>\n",
       "    <tr>\n",
       "      <th>Afghanistan</th>\n",
       "      <td>459</td>\n",
       "    </tr>\n",
       "    <tr>\n",
       "      <th>AndorrA</th>\n",
       "      <td>592</td>\n",
       "    </tr>\n",
       "    <tr>\n",
       "      <th>Angola</th>\n",
       "      <td>923</td>\n",
       "    </tr>\n",
       "    <tr>\n",
       "      <th>Anguilla</th>\n",
       "      <td>633</td>\n",
       "    </tr>\n",
       "    <tr>\n",
       "      <th>Armenia</th>\n",
       "      <td>1187</td>\n",
       "    </tr>\n",
       "    <tr>\n",
       "      <th>...</th>\n",
       "      <td>...</td>\n",
       "    </tr>\n",
       "    <tr>\n",
       "      <th>Indonesia</th>\n",
       "      <td>419</td>\n",
       "    </tr>\n",
       "    <tr>\n",
       "      <th>Iraq</th>\n",
       "      <td>435</td>\n",
       "    </tr>\n",
       "    <tr>\n",
       "      <th>Jamaica</th>\n",
       "      <td>200</td>\n",
       "    </tr>\n",
       "    <tr>\n",
       "      <th>Sweden</th>\n",
       "      <td>160</td>\n",
       "    </tr>\n",
       "    <tr>\n",
       "      <th>Trinidad and Tobago</th>\n",
       "      <td>108</td>\n",
       "    </tr>\n",
       "  </tbody>\n",
       "</table>\n",
       "<p>228 rows × 1 columns</p>\n",
       "</div>"
      ],
      "text/plain": [
       "                     Worker\n",
       "Country                    \n",
       "Afghanistan             459\n",
       "AndorrA                 592\n",
       "Angola                  923\n",
       "Anguilla                633\n",
       "Armenia                1187\n",
       "...                     ...\n",
       "Indonesia               419\n",
       "Iraq                    435\n",
       "Jamaica                 200\n",
       "Sweden                  160\n",
       "Trinidad and Tobago     108\n",
       "\n",
       "[228 rows x 1 columns]"
      ]
     },
     "execution_count": 5,
     "metadata": {},
     "output_type": "execute_result"
    }
   ],
   "source": [
    "ddf.groupby(['Country']).sum().compute()"
   ]
  },
  {
   "cell_type": "code",
   "execution_count": 6,
   "id": "04fe1d71",
   "metadata": {},
   "outputs": [
    {
     "data": {
      "image/png": "[encoded data removed]",
      "text/plain": [
       "<IPython.core.display.Image object>"
      ]
     },
     "execution_count": 6,
     "metadata": {},
     "output_type": "execute_result"
    }
   ],
   "source": [
    "ddf.visualize()"
   ]
  }
 ],
 "metadata": {
  "kernelspec": {
   "display_name": "Python 3 (ipykernel)",
   "language": "python",
   "name": "python3"
  },
  "language_info": {
   "codemirror_mode": {
    "name": "ipython",
    "version": 3
   },
   "file_extension": ".py",
   "mimetype": "text/x-python",
   "name": "python",
   "nbconvert_exporter": "python",
   "pygments_lexer": "ipython3",
   "version": "3.8.12"
  }
 },
 "nbformat": 4,
 "nbformat_minor": 5
}
